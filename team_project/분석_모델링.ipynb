{
  "nbformat": 4,
  "nbformat_minor": 0,
  "metadata": {
    "colab": {
      "provenance": [],
      "toc_visible": true,
      "include_colab_link": true
    },
    "kernelspec": {
      "name": "python3",
      "display_name": "Python 3"
    },
    "language_info": {
      "name": "python"
    }
  },
  "cells": [
    {
      "cell_type": "markdown",
      "metadata": {
        "id": "view-in-github",
        "colab_type": "text"
      },
      "source": [
        "<a href=\"https://colab.research.google.com/github/cnueg/data/blob/main/team_project/%EB%B6%84%EC%84%9D_%EB%AA%A8%EB%8D%B8%EB%A7%81.ipynb\" target=\"_parent\"><img src=\"https://colab.research.google.com/assets/colab-badge.svg\" alt=\"Open In Colab\"/></a>"
      ]
    },
    {
      "cell_type": "markdown",
      "source": [
        "# import"
      ],
      "metadata": {
        "id": "NxiY1jMBwzuB"
      }
    },
    {
      "cell_type": "code",
      "execution_count": null,
      "metadata": {
        "id": "gTMlqKXywnG3"
      },
      "outputs": [],
      "source": [
        "import pandas as pd\n",
        "import numpy as np\n",
        "import geopandas as gpd\n",
        "import seaborn as sns\n",
        "from shapely.geometry import box, Point\n",
        "import matplotlib.pyplot as plt\n",
        "import folium\n",
        "from folium.plugins import HeatMap\n",
        "from collections import defaultdict\n"
      ]
    },
    {
      "cell_type": "code",
      "source": [
        "from google.colab import drive\n",
        "drive.mount('/content/drive')"
      ],
      "metadata": {
        "colab": {
          "base_uri": "https://localhost:8080/"
        },
        "id": "w5GLZ3Dywu0C",
        "outputId": "e554e768-abb9-456c-e5a2-001337ed9d99"
      },
      "execution_count": null,
      "outputs": [
        {
          "output_type": "stream",
          "name": "stdout",
          "text": [
            "Drive already mounted at /content/drive; to attempt to forcibly remount, call drive.mount(\"/content/drive\", force_remount=True).\n"
          ]
        }
      ]
    },
    {
      "cell_type": "markdown",
      "source": [
        "# 변수 데이터 프레임 가져오기"
      ],
      "metadata": {
        "id": "Qay-qty57Q9N"
      }
    },
    {
      "cell_type": "code",
      "source": [
        "path = '/content/drive/MyDrive/중간 프로젝트/코랩으로 옮길 엑셀들/DataFrame.xlsx'"
      ],
      "metadata": {
        "id": "BSP1TPl5w2TX"
      },
      "execution_count": null,
      "outputs": []
    },
    {
      "cell_type": "code",
      "source": [
        "data = pd.read_excel(path)"
      ],
      "metadata": {
        "id": "mxEINkdS_DTG"
      },
      "execution_count": 15,
      "outputs": []
    },
    {
      "cell_type": "code",
      "source": [
        "data.info()"
      ],
      "metadata": {
        "id": "xUPM0pxU_MCQ"
      },
      "execution_count": null,
      "outputs": []
    },
    {
      "cell_type": "code",
      "source": [
        "data.head()"
      ],
      "metadata": {
        "id": "Cmbd_IBi_Nuq"
      },
      "execution_count": null,
      "outputs": []
    },
    {
      "cell_type": "markdown",
      "source": [
        "## 로드킬 - 도로수 상관관계 (road_count)"
      ],
      "metadata": {
        "id": "GAFmZ1ZHAAYN"
      }
    },
    {
      "cell_type": "code",
      "source": [
        "road_count = data[['grid_id','road_roadkill','road_count']]"
      ],
      "metadata": {
        "id": "AhfQiKln_qOl"
      },
      "execution_count": null,
      "outputs": []
    },
    {
      "cell_type": "code",
      "source": [
        "road_count.value_counts()"
      ],
      "metadata": {
        "id": "lTVvblaHBYcl"
      },
      "execution_count": null,
      "outputs": []
    },
    {
      "cell_type": "markdown",
      "source": [
        "### 도로수 그래프"
      ],
      "metadata": {
        "id": "AlPWztCoH4Z_"
      }
    },
    {
      "cell_type": "code",
      "source": [
        "sns.lineplot(data=road_count, x='road_count',y='road_roadkill')\n",
        "plt.show()"
      ],
      "metadata": {
        "id": "lgYQ8uw4H4Hm"
      },
      "execution_count": null,
      "outputs": []
    },
    {
      "cell_type": "markdown",
      "source": [
        "## white 로드킬 수 - whiteroad 등급 (white_grade)"
      ],
      "metadata": {
        "id": "j8jSG4kdCUx8"
      }
    },
    {
      "cell_type": "code",
      "source": [
        "white_grade = data[['grid_id','white_roadkill','white_road_grade']]"
      ],
      "metadata": {
        "id": "Src4c2R4CMlP"
      },
      "execution_count": null,
      "outputs": []
    },
    {
      "cell_type": "code",
      "source": [
        "white_grade['white_road_grade'].value_counts()"
      ],
      "metadata": {
        "id": "MPhN15A0DJGz"
      },
      "execution_count": null,
      "outputs": []
    },
    {
      "cell_type": "markdown",
      "source": [
        "### white 로드킬 수 그래프"
      ],
      "metadata": {
        "id": "9HmMMssoJ2g5"
      }
    },
    {
      "cell_type": "code",
      "source": [
        "sns.lineplot(data=white_grade, x='white_road_grade',y='white_roadkill')\n",
        "plt.show()"
      ],
      "metadata": {
        "id": "SQLPLyGSJcEy"
      },
      "execution_count": null,
      "outputs": []
    },
    {
      "cell_type": "markdown",
      "source": [
        "## 생태통로 수 - 로드킬 수 (eco_road)"
      ],
      "metadata": {
        "id": "LWMRPlTqGkfU"
      }
    },
    {
      "cell_type": "code",
      "source": [
        "eco_road = data[['grid_id','road_kill','eco_road']]"
      ],
      "metadata": {
        "id": "P-dl18WIDK2K"
      },
      "execution_count": null,
      "outputs": []
    },
    {
      "cell_type": "code",
      "source": [
        "eco_road['eco_road'].value_counts()"
      ],
      "metadata": {
        "id": "YhGyx8vvHS1u"
      },
      "execution_count": null,
      "outputs": []
    },
    {
      "cell_type": "markdown",
      "source": [
        "### 생태통로 수 그래프"
      ],
      "metadata": {
        "id": "umP-rgF2KxR8"
      }
    },
    {
      "cell_type": "code",
      "source": [
        "sns.lineplot(data=eco_road, x='eco_road', y='roadkill')\n",
        "plt.show()"
      ],
      "metadata": {
        "id": "JBZ-IsGSK0qX"
      },
      "execution_count": null,
      "outputs": []
    },
    {
      "cell_type": "markdown",
      "source": [
        "## 제한속도 - 전체 로드킬 수 (speedlimit)"
      ],
      "metadata": {
        "id": "g--QAMwvHUwZ"
      }
    },
    {
      "cell_type": "code",
      "source": [
        "speed_limit = data[['grid_id','roadkill','speed_limit']]"
      ],
      "metadata": {
        "id": "jhDIJJLyHTm6"
      },
      "execution_count": null,
      "outputs": []
    },
    {
      "cell_type": "code",
      "source": [
        "speed_limit['speed_limit'].value_counts()"
      ],
      "metadata": {
        "id": "lE6fjsaXHkga"
      },
      "execution_count": null,
      "outputs": []
    },
    {
      "cell_type": "markdown",
      "source": [
        "### 제한속도 그래프"
      ],
      "metadata": {
        "id": "L_Y66tf-LOZa"
      }
    },
    {
      "cell_type": "code",
      "source": [
        "sns.barplot(data=speed_limit, x='speed_limit', y='roadkill')\n",
        "plt.show()"
      ],
      "metadata": {
        "id": "WZxv8qDZLRRy"
      },
      "execution_count": null,
      "outputs": []
    }
  ]
}